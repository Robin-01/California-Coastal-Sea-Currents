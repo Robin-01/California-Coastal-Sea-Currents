{
  "nbformat": 4,
  "nbformat_minor": 0,
  "metadata": {
    "colab": {
      "provenance": [],
      "include_colab_link": true
    },
    "kernelspec": {
      "name": "python3",
      "display_name": "Python 3"
    },
    "language_info": {
      "name": "python"
    }
  },
  "cells": [
    {
      "cell_type": "markdown",
      "metadata": {
        "id": "view-in-github",
        "colab_type": "text"
      },
      "source": [
        "<a href=\"https://colab.research.google.com/github/Robin-01/California-Coastal-Sea-Currents/blob/main/download_wind_data_2025.ipynb\" target=\"_parent\"><img src=\"https://colab.research.google.com/assets/colab-badge.svg\" alt=\"Open In Colab\"/></a>"
      ]
    },
    {
      "cell_type": "code",
      "source": [
        "!echo \"machine urs.earthdata.nasa.gov login alexmw password Washington12#$\" > ~/.netrc\n",
        "!chmod 0600 ~/.netrc"
      ],
      "metadata": {
        "id": "cHKnlzO3qP8f"
      },
      "execution_count": 1,
      "outputs": []
    },
    {
      "cell_type": "code",
      "source": [
        "from google.colab import drive\n",
        "drive.mount('/content/drive')"
      ],
      "metadata": {
        "colab": {
          "base_uri": "https://localhost:8080/"
        },
        "id": "4E8DKDECs2q-",
        "outputId": "a7898e14-07e0-4144-975c-132fe8983110"
      },
      "execution_count": 2,
      "outputs": [
        {
          "output_type": "stream",
          "name": "stdout",
          "text": [
            "Mounted at /content/drive\n"
          ]
        }
      ]
    },
    {
      "cell_type": "code",
      "source": [
        "import os\n",
        "import requests\n",
        "from datetime import datetime, timedelta\n",
        "\n",
        "# Directory to save files\n",
        "save_dir = \"/content/drive/MyDrive/UW_DSO_Project/Wind Data\"\n",
        "os.makedirs(save_dir, exist_ok=True)\n",
        "\n",
        "# Date range\n",
        "start_date = datetime(2025, 1, 1)\n",
        "end_date   = datetime(2025, 3, 31)  # change as needed\n",
        "\n",
        "# Loop over all dates\n",
        "date = start_date\n",
        "while date <= end_date:\n",
        "    # Construct filename and URL\n",
        "    filename = f\"CCMP_Wind_Analysis_{date.strftime('%Y%m%d')}_V03.1_L4.nc\"\n",
        "    file_path = os.path.join(save_dir, filename)\n",
        "    url = f\"https://data.remss.com/ccmp/v03.1/Y{date.year}/M{date.month:02d}/{filename}\"\n",
        "\n",
        "    # Check if file already exists\n",
        "    if os.path.exists(file_path):\n",
        "        print(f\"✅ Already have {filename}\")\n",
        "    else:\n",
        "        print(f\"⬇️ Downloading {filename} ...\")\n",
        "        response = requests.get(url, stream=True)\n",
        "        if response.status_code == 200:\n",
        "            with open(file_path, \"wb\") as f:\n",
        "                for chunk in response.iter_content(chunk_size=8192):\n",
        "                    f.write(chunk)\n",
        "            print(f\"   ✔ Saved {filename}\")\n",
        "        else:\n",
        "            print(f\"   ❌ Failed to download {filename} (status {response.status_code})\")\n",
        "\n",
        "    # Next day\n",
        "    date += timedelta(days=1)\n"
      ],
      "metadata": {
        "colab": {
          "base_uri": "https://localhost:8080/"
        },
        "id": "1fq3IhCIqzQN",
        "outputId": "31b23bf0-d099-4800-db4b-8165151ef462"
      },
      "execution_count": 3,
      "outputs": [
        {
          "output_type": "stream",
          "name": "stdout",
          "text": [
            "⬇️ Downloading CCMP_Wind_Analysis_20250101_V03.1_L4.nc ...\n",
            "   ✔ Saved CCMP_Wind_Analysis_20250101_V03.1_L4.nc\n",
            "⬇️ Downloading CCMP_Wind_Analysis_20250102_V03.1_L4.nc ...\n",
            "   ✔ Saved CCMP_Wind_Analysis_20250102_V03.1_L4.nc\n",
            "⬇️ Downloading CCMP_Wind_Analysis_20250103_V03.1_L4.nc ...\n",
            "   ✔ Saved CCMP_Wind_Analysis_20250103_V03.1_L4.nc\n",
            "⬇️ Downloading CCMP_Wind_Analysis_20250104_V03.1_L4.nc ...\n",
            "   ✔ Saved CCMP_Wind_Analysis_20250104_V03.1_L4.nc\n",
            "⬇️ Downloading CCMP_Wind_Analysis_20250105_V03.1_L4.nc ...\n",
            "   ✔ Saved CCMP_Wind_Analysis_20250105_V03.1_L4.nc\n",
            "⬇️ Downloading CCMP_Wind_Analysis_20250106_V03.1_L4.nc ...\n",
            "   ✔ Saved CCMP_Wind_Analysis_20250106_V03.1_L4.nc\n",
            "⬇️ Downloading CCMP_Wind_Analysis_20250107_V03.1_L4.nc ...\n",
            "   ✔ Saved CCMP_Wind_Analysis_20250107_V03.1_L4.nc\n",
            "⬇️ Downloading CCMP_Wind_Analysis_20250108_V03.1_L4.nc ...\n",
            "   ✔ Saved CCMP_Wind_Analysis_20250108_V03.1_L4.nc\n",
            "⬇️ Downloading CCMP_Wind_Analysis_20250109_V03.1_L4.nc ...\n",
            "   ✔ Saved CCMP_Wind_Analysis_20250109_V03.1_L4.nc\n",
            "⬇️ Downloading CCMP_Wind_Analysis_20250110_V03.1_L4.nc ...\n",
            "   ✔ Saved CCMP_Wind_Analysis_20250110_V03.1_L4.nc\n",
            "⬇️ Downloading CCMP_Wind_Analysis_20250111_V03.1_L4.nc ...\n",
            "   ✔ Saved CCMP_Wind_Analysis_20250111_V03.1_L4.nc\n",
            "⬇️ Downloading CCMP_Wind_Analysis_20250112_V03.1_L4.nc ...\n",
            "   ✔ Saved CCMP_Wind_Analysis_20250112_V03.1_L4.nc\n",
            "⬇️ Downloading CCMP_Wind_Analysis_20250113_V03.1_L4.nc ...\n",
            "   ✔ Saved CCMP_Wind_Analysis_20250113_V03.1_L4.nc\n",
            "⬇️ Downloading CCMP_Wind_Analysis_20250114_V03.1_L4.nc ...\n",
            "   ✔ Saved CCMP_Wind_Analysis_20250114_V03.1_L4.nc\n",
            "⬇️ Downloading CCMP_Wind_Analysis_20250115_V03.1_L4.nc ...\n",
            "   ✔ Saved CCMP_Wind_Analysis_20250115_V03.1_L4.nc\n",
            "⬇️ Downloading CCMP_Wind_Analysis_20250116_V03.1_L4.nc ...\n",
            "   ✔ Saved CCMP_Wind_Analysis_20250116_V03.1_L4.nc\n",
            "⬇️ Downloading CCMP_Wind_Analysis_20250117_V03.1_L4.nc ...\n",
            "   ✔ Saved CCMP_Wind_Analysis_20250117_V03.1_L4.nc\n",
            "⬇️ Downloading CCMP_Wind_Analysis_20250118_V03.1_L4.nc ...\n",
            "   ✔ Saved CCMP_Wind_Analysis_20250118_V03.1_L4.nc\n",
            "⬇️ Downloading CCMP_Wind_Analysis_20250119_V03.1_L4.nc ...\n",
            "   ✔ Saved CCMP_Wind_Analysis_20250119_V03.1_L4.nc\n",
            "⬇️ Downloading CCMP_Wind_Analysis_20250120_V03.1_L4.nc ...\n",
            "   ✔ Saved CCMP_Wind_Analysis_20250120_V03.1_L4.nc\n",
            "⬇️ Downloading CCMP_Wind_Analysis_20250121_V03.1_L4.nc ...\n",
            "   ✔ Saved CCMP_Wind_Analysis_20250121_V03.1_L4.nc\n",
            "⬇️ Downloading CCMP_Wind_Analysis_20250122_V03.1_L4.nc ...\n",
            "   ✔ Saved CCMP_Wind_Analysis_20250122_V03.1_L4.nc\n",
            "⬇️ Downloading CCMP_Wind_Analysis_20250123_V03.1_L4.nc ...\n",
            "   ✔ Saved CCMP_Wind_Analysis_20250123_V03.1_L4.nc\n",
            "⬇️ Downloading CCMP_Wind_Analysis_20250124_V03.1_L4.nc ...\n",
            "   ✔ Saved CCMP_Wind_Analysis_20250124_V03.1_L4.nc\n",
            "⬇️ Downloading CCMP_Wind_Analysis_20250125_V03.1_L4.nc ...\n",
            "   ✔ Saved CCMP_Wind_Analysis_20250125_V03.1_L4.nc\n",
            "⬇️ Downloading CCMP_Wind_Analysis_20250126_V03.1_L4.nc ...\n",
            "   ✔ Saved CCMP_Wind_Analysis_20250126_V03.1_L4.nc\n",
            "⬇️ Downloading CCMP_Wind_Analysis_20250127_V03.1_L4.nc ...\n",
            "   ✔ Saved CCMP_Wind_Analysis_20250127_V03.1_L4.nc\n",
            "⬇️ Downloading CCMP_Wind_Analysis_20250128_V03.1_L4.nc ...\n",
            "   ✔ Saved CCMP_Wind_Analysis_20250128_V03.1_L4.nc\n",
            "⬇️ Downloading CCMP_Wind_Analysis_20250129_V03.1_L4.nc ...\n",
            "   ✔ Saved CCMP_Wind_Analysis_20250129_V03.1_L4.nc\n",
            "⬇️ Downloading CCMP_Wind_Analysis_20250130_V03.1_L4.nc ...\n",
            "   ✔ Saved CCMP_Wind_Analysis_20250130_V03.1_L4.nc\n",
            "⬇️ Downloading CCMP_Wind_Analysis_20250131_V03.1_L4.nc ...\n",
            "   ✔ Saved CCMP_Wind_Analysis_20250131_V03.1_L4.nc\n",
            "⬇️ Downloading CCMP_Wind_Analysis_20250201_V03.1_L4.nc ...\n",
            "   ✔ Saved CCMP_Wind_Analysis_20250201_V03.1_L4.nc\n",
            "⬇️ Downloading CCMP_Wind_Analysis_20250202_V03.1_L4.nc ...\n",
            "   ✔ Saved CCMP_Wind_Analysis_20250202_V03.1_L4.nc\n",
            "⬇️ Downloading CCMP_Wind_Analysis_20250203_V03.1_L4.nc ...\n",
            "   ✔ Saved CCMP_Wind_Analysis_20250203_V03.1_L4.nc\n",
            "⬇️ Downloading CCMP_Wind_Analysis_20250204_V03.1_L4.nc ...\n",
            "   ✔ Saved CCMP_Wind_Analysis_20250204_V03.1_L4.nc\n",
            "⬇️ Downloading CCMP_Wind_Analysis_20250205_V03.1_L4.nc ...\n",
            "   ✔ Saved CCMP_Wind_Analysis_20250205_V03.1_L4.nc\n",
            "⬇️ Downloading CCMP_Wind_Analysis_20250206_V03.1_L4.nc ...\n",
            "   ✔ Saved CCMP_Wind_Analysis_20250206_V03.1_L4.nc\n",
            "⬇️ Downloading CCMP_Wind_Analysis_20250207_V03.1_L4.nc ...\n",
            "   ✔ Saved CCMP_Wind_Analysis_20250207_V03.1_L4.nc\n",
            "⬇️ Downloading CCMP_Wind_Analysis_20250208_V03.1_L4.nc ...\n",
            "   ✔ Saved CCMP_Wind_Analysis_20250208_V03.1_L4.nc\n",
            "⬇️ Downloading CCMP_Wind_Analysis_20250209_V03.1_L4.nc ...\n",
            "   ✔ Saved CCMP_Wind_Analysis_20250209_V03.1_L4.nc\n",
            "⬇️ Downloading CCMP_Wind_Analysis_20250210_V03.1_L4.nc ...\n",
            "   ✔ Saved CCMP_Wind_Analysis_20250210_V03.1_L4.nc\n",
            "⬇️ Downloading CCMP_Wind_Analysis_20250211_V03.1_L4.nc ...\n",
            "   ✔ Saved CCMP_Wind_Analysis_20250211_V03.1_L4.nc\n",
            "⬇️ Downloading CCMP_Wind_Analysis_20250212_V03.1_L4.nc ...\n",
            "   ✔ Saved CCMP_Wind_Analysis_20250212_V03.1_L4.nc\n",
            "⬇️ Downloading CCMP_Wind_Analysis_20250213_V03.1_L4.nc ...\n",
            "   ✔ Saved CCMP_Wind_Analysis_20250213_V03.1_L4.nc\n",
            "⬇️ Downloading CCMP_Wind_Analysis_20250214_V03.1_L4.nc ...\n",
            "   ✔ Saved CCMP_Wind_Analysis_20250214_V03.1_L4.nc\n",
            "⬇️ Downloading CCMP_Wind_Analysis_20250215_V03.1_L4.nc ...\n",
            "   ✔ Saved CCMP_Wind_Analysis_20250215_V03.1_L4.nc\n",
            "⬇️ Downloading CCMP_Wind_Analysis_20250216_V03.1_L4.nc ...\n",
            "   ✔ Saved CCMP_Wind_Analysis_20250216_V03.1_L4.nc\n",
            "⬇️ Downloading CCMP_Wind_Analysis_20250217_V03.1_L4.nc ...\n",
            "   ✔ Saved CCMP_Wind_Analysis_20250217_V03.1_L4.nc\n",
            "⬇️ Downloading CCMP_Wind_Analysis_20250218_V03.1_L4.nc ...\n",
            "   ✔ Saved CCMP_Wind_Analysis_20250218_V03.1_L4.nc\n",
            "⬇️ Downloading CCMP_Wind_Analysis_20250219_V03.1_L4.nc ...\n",
            "   ✔ Saved CCMP_Wind_Analysis_20250219_V03.1_L4.nc\n",
            "⬇️ Downloading CCMP_Wind_Analysis_20250220_V03.1_L4.nc ...\n",
            "   ✔ Saved CCMP_Wind_Analysis_20250220_V03.1_L4.nc\n",
            "⬇️ Downloading CCMP_Wind_Analysis_20250221_V03.1_L4.nc ...\n",
            "   ✔ Saved CCMP_Wind_Analysis_20250221_V03.1_L4.nc\n",
            "⬇️ Downloading CCMP_Wind_Analysis_20250222_V03.1_L4.nc ...\n",
            "   ✔ Saved CCMP_Wind_Analysis_20250222_V03.1_L4.nc\n",
            "⬇️ Downloading CCMP_Wind_Analysis_20250223_V03.1_L4.nc ...\n",
            "   ✔ Saved CCMP_Wind_Analysis_20250223_V03.1_L4.nc\n",
            "⬇️ Downloading CCMP_Wind_Analysis_20250224_V03.1_L4.nc ...\n",
            "   ✔ Saved CCMP_Wind_Analysis_20250224_V03.1_L4.nc\n",
            "⬇️ Downloading CCMP_Wind_Analysis_20250225_V03.1_L4.nc ...\n",
            "   ✔ Saved CCMP_Wind_Analysis_20250225_V03.1_L4.nc\n",
            "⬇️ Downloading CCMP_Wind_Analysis_20250226_V03.1_L4.nc ...\n",
            "   ✔ Saved CCMP_Wind_Analysis_20250226_V03.1_L4.nc\n",
            "⬇️ Downloading CCMP_Wind_Analysis_20250227_V03.1_L4.nc ...\n",
            "   ✔ Saved CCMP_Wind_Analysis_20250227_V03.1_L4.nc\n",
            "⬇️ Downloading CCMP_Wind_Analysis_20250228_V03.1_L4.nc ...\n",
            "   ✔ Saved CCMP_Wind_Analysis_20250228_V03.1_L4.nc\n",
            "⬇️ Downloading CCMP_Wind_Analysis_20250301_V03.1_L4.nc ...\n",
            "   ✔ Saved CCMP_Wind_Analysis_20250301_V03.1_L4.nc\n",
            "⬇️ Downloading CCMP_Wind_Analysis_20250302_V03.1_L4.nc ...\n",
            "   ✔ Saved CCMP_Wind_Analysis_20250302_V03.1_L4.nc\n",
            "⬇️ Downloading CCMP_Wind_Analysis_20250303_V03.1_L4.nc ...\n",
            "   ✔ Saved CCMP_Wind_Analysis_20250303_V03.1_L4.nc\n",
            "⬇️ Downloading CCMP_Wind_Analysis_20250304_V03.1_L4.nc ...\n",
            "   ✔ Saved CCMP_Wind_Analysis_20250304_V03.1_L4.nc\n",
            "⬇️ Downloading CCMP_Wind_Analysis_20250305_V03.1_L4.nc ...\n",
            "   ✔ Saved CCMP_Wind_Analysis_20250305_V03.1_L4.nc\n",
            "⬇️ Downloading CCMP_Wind_Analysis_20250306_V03.1_L4.nc ...\n",
            "   ✔ Saved CCMP_Wind_Analysis_20250306_V03.1_L4.nc\n",
            "⬇️ Downloading CCMP_Wind_Analysis_20250307_V03.1_L4.nc ...\n",
            "   ✔ Saved CCMP_Wind_Analysis_20250307_V03.1_L4.nc\n",
            "⬇️ Downloading CCMP_Wind_Analysis_20250308_V03.1_L4.nc ...\n",
            "   ✔ Saved CCMP_Wind_Analysis_20250308_V03.1_L4.nc\n",
            "⬇️ Downloading CCMP_Wind_Analysis_20250309_V03.1_L4.nc ...\n",
            "   ✔ Saved CCMP_Wind_Analysis_20250309_V03.1_L4.nc\n",
            "⬇️ Downloading CCMP_Wind_Analysis_20250310_V03.1_L4.nc ...\n",
            "   ✔ Saved CCMP_Wind_Analysis_20250310_V03.1_L4.nc\n",
            "⬇️ Downloading CCMP_Wind_Analysis_20250311_V03.1_L4.nc ...\n",
            "   ✔ Saved CCMP_Wind_Analysis_20250311_V03.1_L4.nc\n",
            "⬇️ Downloading CCMP_Wind_Analysis_20250312_V03.1_L4.nc ...\n",
            "   ✔ Saved CCMP_Wind_Analysis_20250312_V03.1_L4.nc\n",
            "⬇️ Downloading CCMP_Wind_Analysis_20250313_V03.1_L4.nc ...\n",
            "   ✔ Saved CCMP_Wind_Analysis_20250313_V03.1_L4.nc\n",
            "⬇️ Downloading CCMP_Wind_Analysis_20250314_V03.1_L4.nc ...\n",
            "   ✔ Saved CCMP_Wind_Analysis_20250314_V03.1_L4.nc\n",
            "⬇️ Downloading CCMP_Wind_Analysis_20250315_V03.1_L4.nc ...\n",
            "   ✔ Saved CCMP_Wind_Analysis_20250315_V03.1_L4.nc\n",
            "⬇️ Downloading CCMP_Wind_Analysis_20250316_V03.1_L4.nc ...\n",
            "   ✔ Saved CCMP_Wind_Analysis_20250316_V03.1_L4.nc\n",
            "⬇️ Downloading CCMP_Wind_Analysis_20250317_V03.1_L4.nc ...\n",
            "   ✔ Saved CCMP_Wind_Analysis_20250317_V03.1_L4.nc\n",
            "⬇️ Downloading CCMP_Wind_Analysis_20250318_V03.1_L4.nc ...\n",
            "   ✔ Saved CCMP_Wind_Analysis_20250318_V03.1_L4.nc\n",
            "⬇️ Downloading CCMP_Wind_Analysis_20250319_V03.1_L4.nc ...\n",
            "   ✔ Saved CCMP_Wind_Analysis_20250319_V03.1_L4.nc\n",
            "⬇️ Downloading CCMP_Wind_Analysis_20250320_V03.1_L4.nc ...\n",
            "   ✔ Saved CCMP_Wind_Analysis_20250320_V03.1_L4.nc\n",
            "⬇️ Downloading CCMP_Wind_Analysis_20250321_V03.1_L4.nc ...\n",
            "   ✔ Saved CCMP_Wind_Analysis_20250321_V03.1_L4.nc\n",
            "⬇️ Downloading CCMP_Wind_Analysis_20250322_V03.1_L4.nc ...\n",
            "   ✔ Saved CCMP_Wind_Analysis_20250322_V03.1_L4.nc\n",
            "⬇️ Downloading CCMP_Wind_Analysis_20250323_V03.1_L4.nc ...\n",
            "   ✔ Saved CCMP_Wind_Analysis_20250323_V03.1_L4.nc\n",
            "⬇️ Downloading CCMP_Wind_Analysis_20250324_V03.1_L4.nc ...\n",
            "   ✔ Saved CCMP_Wind_Analysis_20250324_V03.1_L4.nc\n",
            "⬇️ Downloading CCMP_Wind_Analysis_20250325_V03.1_L4.nc ...\n",
            "   ✔ Saved CCMP_Wind_Analysis_20250325_V03.1_L4.nc\n",
            "⬇️ Downloading CCMP_Wind_Analysis_20250326_V03.1_L4.nc ...\n",
            "   ✔ Saved CCMP_Wind_Analysis_20250326_V03.1_L4.nc\n",
            "⬇️ Downloading CCMP_Wind_Analysis_20250327_V03.1_L4.nc ...\n",
            "   ✔ Saved CCMP_Wind_Analysis_20250327_V03.1_L4.nc\n",
            "⬇️ Downloading CCMP_Wind_Analysis_20250328_V03.1_L4.nc ...\n",
            "   ✔ Saved CCMP_Wind_Analysis_20250328_V03.1_L4.nc\n",
            "⬇️ Downloading CCMP_Wind_Analysis_20250329_V03.1_L4.nc ...\n",
            "   ✔ Saved CCMP_Wind_Analysis_20250329_V03.1_L4.nc\n",
            "⬇️ Downloading CCMP_Wind_Analysis_20250330_V03.1_L4.nc ...\n",
            "   ✔ Saved CCMP_Wind_Analysis_20250330_V03.1_L4.nc\n",
            "⬇️ Downloading CCMP_Wind_Analysis_20250331_V03.1_L4.nc ...\n",
            "   ✔ Saved CCMP_Wind_Analysis_20250331_V03.1_L4.nc\n"
          ]
        }
      ]
    },
    {
      "cell_type": "code",
      "source": [
        "import xarray as xr\n",
        "import os\n",
        "\n",
        "# Folder where all files are saved\n",
        "data_dir = '/content/drive/MyDrive/UW_DSO_Project/Wind Data'\n",
        "# Get a sorted list of all NetCDF files\n",
        "all_files = sorted([\n",
        "    os.path.join(data_dir, f)\n",
        "    for f in os.listdir(data_dir)\n",
        "    if f.startswith(\"CCMP_Wind_Analysis_2025\") and f.endswith(\".nc\")\n",
        "])\n",
        "\n",
        "print(f\"Found {len(all_files)} files for 2025\")\n",
        "\n",
        "# Open all files as one Dataset using xarray and Dask for lazy loading\n",
        "ds_all = xr.open_mfdataset(\n",
        "    all_files,\n",
        "    combine=\"by_coords\",  # combine along coordinates like time\n",
        "    chunks={\"time\": 10}   # optional: chunking for large datasets\n",
        ")\n",
        "\n",
        "# Inspect the combined dataset\n",
        "print(ds_all)\n"
      ],
      "metadata": {
        "colab": {
          "base_uri": "https://localhost:8080/"
        },
        "id": "N3h-XgrDtwkW",
        "outputId": "f05b1fa2-fe10-49be-f4b4-158bee8f7281"
      },
      "execution_count": 5,
      "outputs": [
        {
          "output_type": "stream",
          "name": "stdout",
          "text": [
            "Found 90 files for 2025\n",
            "<xarray.Dataset> Size: 6GB\n",
            "Dimensions:    (time: 360, latitude: 720, longitude: 1440)\n",
            "Coordinates:\n",
            "  * latitude   (latitude) float32 3kB -89.88 -89.62 -89.38 ... 89.38 89.62 89.88\n",
            "  * longitude  (longitude) float32 6kB 0.125 0.375 0.625 ... 359.4 359.6 359.9\n",
            "  * time       (time) datetime64[ns] 3kB 2025-01-01 ... 2025-03-31T18:00:00\n",
            "Data variables:\n",
            "    uwnd       (time, latitude, longitude) float32 1GB dask.array<chunksize=(4, 720, 1440), meta=np.ndarray>\n",
            "    vwnd       (time, latitude, longitude) float32 1GB dask.array<chunksize=(4, 720, 1440), meta=np.ndarray>\n",
            "    ws         (time, latitude, longitude) float32 1GB dask.array<chunksize=(4, 720, 1440), meta=np.ndarray>\n",
            "    nobs       (time, latitude, longitude) float32 1GB dask.array<chunksize=(4, 720, 1440), meta=np.ndarray>\n",
            "Attributes: (12/54)\n",
            "    contact:                       Remote Sensing Systems, support@remss.com\n",
            "    Conventions:                   CF-1.7 ACDD-1.3\n",
            "    data_structure:                grid\n",
            "    title:                         RSS CCMP V3.1 6-hourly surface winds (Leve...\n",
            "    summary:                       RSS VAM 6-hour analyses using ERA-5 wind r...\n",
            "    institute_id:                  RSS\n",
            "    ...                            ...\n",
            "    time_coverage_end:             2025-01-01T23:59:59Z\n",
            "    platform:                      Space-based Platforms>Earth Observation Sa...\n",
            "    instrument:                    Earth Remote Sensing Instruments>Passive R...\n",
            "    history:                       2025-05-13T11:13:18.368440Z - netCDF gener...\n",
            "    base_date:                     Y2025 M01 D01\n",
            "    date_created:                  2025-05-13T11:13:18.368440Z\n"
          ]
        }
      ]
    },
    {
      "cell_type": "code",
      "source": [
        "!pip install cartopy"
      ],
      "metadata": {
        "colab": {
          "base_uri": "https://localhost:8080/"
        },
        "id": "NA1TXvbFupAT",
        "outputId": "7a9ca3c0-057a-403b-bb48-080a5f87658c"
      },
      "execution_count": 6,
      "outputs": [
        {
          "output_type": "stream",
          "name": "stdout",
          "text": [
            "Collecting cartopy\n",
            "  Downloading cartopy-0.25.0-cp312-cp312-manylinux_2_24_x86_64.manylinux_2_28_x86_64.whl.metadata (6.1 kB)\n",
            "Requirement already satisfied: numpy>=1.23 in /usr/local/lib/python3.12/dist-packages (from cartopy) (2.0.2)\n",
            "Requirement already satisfied: matplotlib>=3.6 in /usr/local/lib/python3.12/dist-packages (from cartopy) (3.10.0)\n",
            "Requirement already satisfied: shapely>=2.0 in /usr/local/lib/python3.12/dist-packages (from cartopy) (2.1.1)\n",
            "Requirement already satisfied: packaging>=21 in /usr/local/lib/python3.12/dist-packages (from cartopy) (25.0)\n",
            "Requirement already satisfied: pyshp>=2.3 in /usr/local/lib/python3.12/dist-packages (from cartopy) (2.3.1)\n",
            "Requirement already satisfied: pyproj>=3.3.1 in /usr/local/lib/python3.12/dist-packages (from cartopy) (3.7.2)\n",
            "Requirement already satisfied: contourpy>=1.0.1 in /usr/local/lib/python3.12/dist-packages (from matplotlib>=3.6->cartopy) (1.3.3)\n",
            "Requirement already satisfied: cycler>=0.10 in /usr/local/lib/python3.12/dist-packages (from matplotlib>=3.6->cartopy) (0.12.1)\n",
            "Requirement already satisfied: fonttools>=4.22.0 in /usr/local/lib/python3.12/dist-packages (from matplotlib>=3.6->cartopy) (4.59.1)\n",
            "Requirement already satisfied: kiwisolver>=1.3.1 in /usr/local/lib/python3.12/dist-packages (from matplotlib>=3.6->cartopy) (1.4.9)\n",
            "Requirement already satisfied: pillow>=8 in /usr/local/lib/python3.12/dist-packages (from matplotlib>=3.6->cartopy) (11.3.0)\n",
            "Requirement already satisfied: pyparsing>=2.3.1 in /usr/local/lib/python3.12/dist-packages (from matplotlib>=3.6->cartopy) (3.2.3)\n",
            "Requirement already satisfied: python-dateutil>=2.7 in /usr/local/lib/python3.12/dist-packages (from matplotlib>=3.6->cartopy) (2.9.0.post0)\n",
            "Requirement already satisfied: certifi in /usr/local/lib/python3.12/dist-packages (from pyproj>=3.3.1->cartopy) (2025.8.3)\n",
            "Requirement already satisfied: six>=1.5 in /usr/local/lib/python3.12/dist-packages (from python-dateutil>=2.7->matplotlib>=3.6->cartopy) (1.17.0)\n",
            "Downloading cartopy-0.25.0-cp312-cp312-manylinux_2_24_x86_64.manylinux_2_28_x86_64.whl (11.8 MB)\n",
            "\u001b[2K   \u001b[90m━━━━━━━━━━━━━━━━━━━━━━━━━━━━━━━━━━━━━━━━\u001b[0m \u001b[32m11.8/11.8 MB\u001b[0m \u001b[31m71.9 MB/s\u001b[0m eta \u001b[36m0:00:00\u001b[0m\n",
            "\u001b[?25hInstalling collected packages: cartopy\n",
            "Successfully installed cartopy-0.25.0\n"
          ]
        }
      ]
    },
    {
      "cell_type": "code",
      "source": [
        "# California bounds\n",
        "lon_min, lon_max = -131 % 360, -109 % 360  # convert -180..0 to 0..360\n",
        "lat_min, lat_max = 24, 51\n",
        "\n",
        "# Crop dataset\n",
        "ds_ca = ds_all.sel(\n",
        "    longitude=slice(lon_min, lon_max),\n",
        "    latitude=slice(lat_min, lat_max)\n",
        ")\n",
        "\n",
        "print(ds_ca)\n",
        "\n",
        "\n",
        "ds_ca\n",
        "ds_day = ds_ca.sel(time=\"2025-03-18T12:00\", method=\"nearest\")\n",
        "if ds_day['longitude'].size > 0:\n",
        "    print(ds_day['uwnd'].min().values)\n",
        "    print(ds_day['uwnd'].max().values)\n",
        "    print(ds_day['uwnd'].mean().values)\n",
        "else:\n",
        "    print(\"⚠️ Selection returned empty array\")\n",
        "\n"
      ],
      "metadata": {
        "colab": {
          "base_uri": "https://localhost:8080/"
        },
        "id": "NJ3OZmTkKZdY",
        "outputId": "2a1b1b49-0252-4368-917c-6c2c33252a09"
      },
      "execution_count": 7,
      "outputs": [
        {
          "output_type": "stream",
          "name": "stdout",
          "text": [
            "<xarray.Dataset> Size: 55MB\n",
            "Dimensions:    (time: 360, latitude: 108, longitude: 88)\n",
            "Coordinates:\n",
            "  * latitude   (latitude) float32 432B 24.12 24.38 24.62 ... 50.38 50.62 50.88\n",
            "  * longitude  (longitude) float32 352B 229.1 229.4 229.6 ... 250.4 250.6 250.9\n",
            "  * time       (time) datetime64[ns] 3kB 2025-01-01 ... 2025-03-31T18:00:00\n",
            "Data variables:\n",
            "    uwnd       (time, latitude, longitude) float32 14MB dask.array<chunksize=(4, 108, 88), meta=np.ndarray>\n",
            "    vwnd       (time, latitude, longitude) float32 14MB dask.array<chunksize=(4, 108, 88), meta=np.ndarray>\n",
            "    ws         (time, latitude, longitude) float32 14MB dask.array<chunksize=(4, 108, 88), meta=np.ndarray>\n",
            "    nobs       (time, latitude, longitude) float32 14MB dask.array<chunksize=(4, 108, 88), meta=np.ndarray>\n",
            "Attributes: (12/54)\n",
            "    contact:                       Remote Sensing Systems, support@remss.com\n",
            "    Conventions:                   CF-1.7 ACDD-1.3\n",
            "    data_structure:                grid\n",
            "    title:                         RSS CCMP V3.1 6-hourly surface winds (Leve...\n",
            "    summary:                       RSS VAM 6-hour analyses using ERA-5 wind r...\n",
            "    institute_id:                  RSS\n",
            "    ...                            ...\n",
            "    time_coverage_end:             2025-01-01T23:59:59Z\n",
            "    platform:                      Space-based Platforms>Earth Observation Sa...\n",
            "    instrument:                    Earth Remote Sensing Instruments>Passive R...\n",
            "    history:                       2025-05-13T11:13:18.368440Z - netCDF gener...\n",
            "    base_date:                     Y2025 M01 D01\n",
            "    date_created:                  2025-05-13T11:13:18.368440Z\n",
            "-9.800144\n",
            "11.722661\n",
            "1.1277078\n"
          ]
        }
      ]
    },
    {
      "cell_type": "code",
      "source": [
        "ds_day = ds_ca.sel(time=\"2025-03-18\")\n",
        "ds_day = ds_day.isel(time=3)\n",
        "# Extract u and v wind components\n",
        "u = ds_day['uwnd']  # zonal (east-west)\n",
        "v = ds_day['vwnd']  # meridional (north-south)\n",
        "uwnd_point = ds_day['uwnd'].sel(latitude=35, longitude=-120, method=\"nearest\")\n",
        "print(uwnd_point.values)\n"
      ],
      "metadata": {
        "colab": {
          "base_uri": "https://localhost:8080/"
        },
        "id": "1gNb8Qm6nrWs",
        "outputId": "424cfb35-9bf5-4dfa-e794-34c153a95779"
      },
      "execution_count": 8,
      "outputs": [
        {
          "output_type": "stream",
          "name": "stdout",
          "text": [
            "2.2123933\n"
          ]
        }
      ]
    },
    {
      "cell_type": "code",
      "source": [
        "!pip install netCDF4\n"
      ],
      "metadata": {
        "colab": {
          "base_uri": "https://localhost:8080/"
        },
        "id": "ZvaZKCpzje3R",
        "outputId": "e0296f3c-4409-418d-ec21-3184402b8c13"
      },
      "execution_count": 10,
      "outputs": [
        {
          "output_type": "stream",
          "name": "stdout",
          "text": [
            "Collecting netCDF4\n",
            "  Downloading netCDF4-1.7.2-cp312-cp312-manylinux_2_17_x86_64.manylinux2014_x86_64.whl.metadata (1.8 kB)\n",
            "Collecting cftime (from netCDF4)\n",
            "  Downloading cftime-1.6.4.post1-cp312-cp312-manylinux_2_17_x86_64.manylinux2014_x86_64.whl.metadata (8.7 kB)\n",
            "Requirement already satisfied: certifi in /usr/local/lib/python3.12/dist-packages (from netCDF4) (2025.8.3)\n",
            "Requirement already satisfied: numpy in /usr/local/lib/python3.12/dist-packages (from netCDF4) (2.0.2)\n",
            "Downloading netCDF4-1.7.2-cp312-cp312-manylinux_2_17_x86_64.manylinux2014_x86_64.whl (9.3 MB)\n",
            "\u001b[2K   \u001b[90m━━━━━━━━━━━━━━━━━━━━━━━━━━━━━━━━━━━━━━━━\u001b[0m \u001b[32m9.3/9.3 MB\u001b[0m \u001b[31m110.4 MB/s\u001b[0m eta \u001b[36m0:00:00\u001b[0m\n",
            "\u001b[?25hDownloading cftime-1.6.4.post1-cp312-cp312-manylinux_2_17_x86_64.manylinux2014_x86_64.whl (1.4 MB)\n",
            "\u001b[2K   \u001b[90m━━━━━━━━━━━━━━━━━━━━━━━━━━━━━━━━━━━━━━━━\u001b[0m \u001b[32m1.4/1.4 MB\u001b[0m \u001b[31m73.1 MB/s\u001b[0m eta \u001b[36m0:00:00\u001b[0m\n",
            "\u001b[?25hInstalling collected packages: cftime, netCDF4\n",
            "Successfully installed cftime-1.6.4.post1 netCDF4-1.7.2\n"
          ]
        }
      ]
    },
    {
      "cell_type": "code",
      "source": [
        "output_path = \"/content/drive/MyDrive/UW_DSO_Project/Wind Data/Wind_data_2025.nc\"\n",
        "\n",
        "# Save compressed NetCDF\n",
        "ds_ca.to_netcdf(\n",
        "    output_path,\n",
        "    mode=\"w\",\n",
        "    format=\"NETCDF4\",\n",
        "    engine=\"netcdf4\",\n",
        "    encoding={var: {\"zlib\": True, \"complevel\": 4} for var in ds_ca.data_vars}\n",
        ")\n",
        "\n",
        "print(f\"Saved to {output_path}\")\n"
      ],
      "metadata": {
        "colab": {
          "base_uri": "https://localhost:8080/"
        },
        "id": "JyhXaUr_jIVd",
        "outputId": "af9f66ce-7d5a-4144-f362-ef4f1257ef4e"
      },
      "execution_count": 11,
      "outputs": [
        {
          "output_type": "stream",
          "name": "stdout",
          "text": [
            "Saved to /content/drive/MyDrive/UW_DSO_Project/Wind Data/Wind_data_2025.nc\n"
          ]
        }
      ]
    }
  ]
}